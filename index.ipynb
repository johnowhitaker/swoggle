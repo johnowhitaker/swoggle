{
 "cells": [
  {
   "cell_type": "code",
   "execution_count": null,
   "metadata": {},
   "outputs": [],
   "source": [
    "#hide\n",
    "from swoggle.core import *\n",
    "from swoggle.ai import *"
   ]
  },
  {
   "cell_type": "markdown",
   "metadata": {},
   "source": [
    "# Swoggle Game Engine\n",
    "\n",
    "Implements a silly game we invented last Christmas and have been playing recently.\n",
    "\n",
    "Rules are TODO."
   ]
  },
  {
   "cell_type": "markdown",
   "metadata": {},
   "source": [
    "## Install (Not on pip yet!!)"
   ]
  },
  {
   "cell_type": "markdown",
   "metadata": {},
   "source": [
    "`pip install swoggle`"
   ]
  },
  {
   "cell_type": "markdown",
   "metadata": {},
   "source": [
    "## How to use"
   ]
  },
  {
   "cell_type": "markdown",
   "metadata": {},
   "source": [
    "To get a board with the basic setup, use the swoggle class:"
   ]
  },
  {
   "cell_type": "code",
   "execution_count": null,
   "metadata": {},
   "outputs": [
    {
     "name": "stdout",
     "output_type": "stream",
     "text": [
      "[1.1][...][...][...][...][...][...][4.4]\n",
      "[...][...][...][...][...][...][...][...]\n",
      "[...][...][...][...][.d.][...][...][...]\n",
      "[...][...][.d.][...][...][...][...][...]\n",
      "[...][...][...][...][...][.d.][...][...]\n",
      "[...][...][...][.d.][...][...][...][...]\n",
      "[...][...][...][...][...][...][...][...]\n",
      "[2.2][...][...][...][...][...][...][3.3]\n",
      "Spa: []\n"
     ]
    }
   ],
   "source": [
    "s = Swoggle(agents=[])\n",
    "s.show()"
   ]
  },
  {
   "cell_type": "markdown",
   "metadata": {},
   "source": [
    "Players can move (after rolling a dice). For example, player 1 could move to the square with a drone:"
   ]
  },
  {
   "cell_type": "code",
   "execution_count": null,
   "metadata": {},
   "outputs": [
    {
     "name": "stdout",
     "output_type": "stream",
     "text": [
      "Moved 1 (0, 0) (3, 2)\n",
      "[..1][...][...][...][...][...][...][4.4]\n",
      "[...][...][...][...][...][...][...][...]\n",
      "[...][...][...][...][.d.][...][...][...]\n",
      "[...][...][1d.][...][...][...][...][...]\n",
      "[...][...][...][...][...][.d.][...][...]\n",
      "[...][...][...][.d.][...][...][...][...]\n",
      "[...][...][...][...][...][...][...][...]\n",
      "[2.2][...][...][...][...][...][...][3.3]\n",
      "Spa: []\n"
     ]
    }
   ],
   "source": [
    "s.move(1, (0, 0), (3, 2), 5) # Only works if dice_roll is high enough\n",
    "s.show()"
   ]
  },
  {
   "cell_type": "markdown",
   "metadata": {},
   "source": [
    "You can move with the drone, but only half as far:"
   ]
  },
  {
   "cell_type": "code",
   "execution_count": null,
   "metadata": {},
   "outputs": [
    {
     "name": "stdout",
     "output_type": "stream",
     "text": [
      "Moved 1 (3, 2) (1, 1)\n",
      "[..1][...][...][...][...][...][...][4.4]\n",
      "[...][1d.][...][...][...][...][...][...]\n",
      "[...][...][...][...][.d.][...][...][...]\n",
      "[...][...][...][...][...][...][...][...]\n",
      "[...][...][...][...][...][.d.][...][...]\n",
      "[...][...][...][.d.][...][...][...][...]\n",
      "[...][...][...][...][...][...][...][...]\n",
      "[2.2][...][...][...][...][...][...][3.3]\n",
      "Spa: []\n"
     ]
    }
   ],
   "source": [
    "s.move(1, (3, 2), (1, 1), 5, drone=True) # Only works if dice_roll is high enough\n",
    "s.show()"
   ]
  },
  {
   "cell_type": "markdown",
   "metadata": {},
   "source": [
    "You can leave the drone behind to move elsewhere. But you cannot take an occupied base without the drone:"
   ]
  },
  {
   "cell_type": "code",
   "execution_count": null,
   "metadata": {},
   "outputs": [
    {
     "name": "stdout",
     "output_type": "stream",
     "text": [
      "Invalid Move 1 (1, 1) (7, 0)\n"
     ]
    }
   ],
   "source": [
    "s.move(1, (1, 1), (7, 0), 6) # No drone - no luck"
   ]
  },
  {
   "cell_type": "markdown",
   "metadata": {},
   "source": [
    "You can take a droned player with a drone for yourself or a powerjump:"
   ]
  },
  {
   "cell_type": "code",
   "execution_count": null,
   "metadata": {},
   "outputs": [
    {
     "name": "stdout",
     "output_type": "stream",
     "text": [
      "Moved 1 (1, 1) (4, 0)\n",
      "Player 1 sent to Swoggle Spa\n",
      "Drone destroyed\n",
      "Moved 2 (7, 0) (4, 0)\n",
      "[..1][...][...][...][...][...][...][4.4]\n",
      "[...][...][...][...][...][...][...][...]\n",
      "[...][...][...][...][.d.][...][...][...]\n",
      "[...][...][...][...][...][...][...][...]\n",
      "[2..][...][...][...][...][.d.][...][...]\n",
      "[...][...][...][.d.][...][...][...][...]\n",
      "[...][...][...][...][...][...][...][...]\n",
      "[..2][...][...][...][...][...][...][3.3]\n",
      "Spa: [1]\n"
     ]
    }
   ],
   "source": [
    "s.move(1, (1, 1), (4, 0), 6, drone=True) # Put 1 in position\n",
    "s.move(2, (7, 0), (4, 0), 6, powerjump=True) # take one with a powerjump\n",
    "s.show()"
   ]
  },
  {
   "cell_type": "markdown",
   "metadata": {},
   "source": [
    "Now player 1 must try to escape, by rolling a 5 ot 6"
   ]
  },
  {
   "cell_type": "code",
   "execution_count": null,
   "metadata": {},
   "outputs": [
    {
     "name": "stdout",
     "output_type": "stream",
     "text": [
      "Player 1 did not escape\n",
      "Player 1 escaped\n",
      "[1.1][...][...][...][...][...][...][4.4]\n",
      "[...][...][...][...][...][...][...][...]\n",
      "[...][...][...][...][.d.][...][...][...]\n",
      "[...][...][...][...][...][...][...][...]\n",
      "[2..][...][...][...][...][.d.][...][...]\n",
      "[...][...][...][.d.][...][...][...][...]\n",
      "[...][...][...][...][...][...][...][...]\n",
      "[..2][...][...][...][...][...][...][3.3]\n",
      "Spa: []\n"
     ]
    }
   ],
   "source": [
    "s.move(1, (0, 0), (0, 0), 4) # No escape with a 4\n",
    "s.move(1, (0, 0), (0, 0), 5) # Escaped\n",
    "s.show()"
   ]
  },
  {
   "cell_type": "code",
   "execution_count": null,
   "metadata": {},
   "outputs": [
    {
     "name": "stdout",
     "output_type": "stream",
     "text": [
      "Player 2 sent to Swoggle Spa\n",
      "Moved 1 (0, 0) (4, 0)\n",
      "Player 1 defeated player 2\n",
      "Moved 1 (4, 0) (7, 0)\n",
      "[1.1][...][...][...][...][...][...][4.4]\n",
      "[...][...][...][...][...][...][...][...]\n",
      "[...][...][...][...][.d.][...][...][...]\n",
      "[...][...][...][...][...][...][...][...]\n",
      "[...][...][...][...][...][.d.][...][...]\n",
      "[...][...][...][.d.][...][...][...][...]\n",
      "[...][...][...][...][...][...][...][...]\n",
      "[...][...][...][...][...][...][...][3.3]\n",
      "Spa: []\n"
     ]
    }
   ],
   "source": [
    "s.move(1, (0, 0), (4, 0), 6) # Capture 2\n",
    "s.move(1, (4, 0), (7, 0), 5) # Take 2's base to win the game\n",
    "s.show()"
   ]
  },
  {
   "cell_type": "markdown",
   "metadata": {},
   "source": [
    "# Adding agents\n",
    "\n",
    "We have several agents to choose from. Let's create a game with 2 random agents and 2 basic agents and watch them play:"
   ]
  },
  {
   "cell_type": "code",
   "execution_count": null,
   "metadata": {},
   "outputs": [
    {
     "name": "stdout",
     "output_type": "stream",
     "text": [
      "[1.1][...][...][...][...][...][...][4.4]\n",
      "[...][...][...][...][...][...][...][...]\n",
      "[...][...][...][...][.d.][...][...][...]\n",
      "[...][...][.d.][...][...][...][...][...]\n",
      "[...][...][...][...][...][.d.][...][...]\n",
      "[...][...][...][.d.][...][...][...][...]\n",
      "[...][...][...][...][...][...][...][...]\n",
      "[2.2][...][...][...][...][...][...][3.3]\n",
      "Spa: []\n"
     ]
    }
   ],
   "source": [
    "sr = Swoggle([RandomAgent(i+1) for i in range(2)]+[BasicAgent(i+3) for i in range(2)])\n",
    "sr.show()"
   ]
  },
  {
   "cell_type": "code",
   "execution_count": null,
   "metadata": {},
   "outputs": [
    {
     "name": "stdout",
     "output_type": "stream",
     "text": [
      "Moved 3 (6, 1) (7, 0)\n",
      "Player 4 defeated player 3\n",
      "Moved 4 (1, 6) (7, 7)\n",
      "[...][...][...][...][...][...][...][4.4]\n",
      "[...][...][...][...][...][...][...][...]\n",
      "[...][...][...][...][.d.][...][...][...]\n",
      "[...][...][.d.][...][...][...][...][...]\n",
      "[...][...][...][...][...][.d.][...][...]\n",
      "[...][...][...][.d.][...][...][...][...]\n",
      "[...][...][...][...][...][...][...][...]\n",
      "[...][...][...][...][...][...][...][...]\n",
      "Spa: []\n"
     ]
    }
   ],
   "source": [
    "# Run repeatedly to see a game play out\n",
    "sr.move_agents()\n",
    "sr.show()"
   ]
  },
  {
   "cell_type": "markdown",
   "metadata": {},
   "source": [
    "# Where Next?\n",
    "\n",
    "The point of this exercise was to 1) Learn NBev and 2) Get a gae ready for RL experiments. So far so good :)"
   ]
  },
  {
   "cell_type": "code",
   "execution_count": null,
   "metadata": {},
   "outputs": [],
   "source": []
  }
 ],
 "metadata": {
  "kernelspec": {
   "display_name": "Python 3",
   "language": "python",
   "name": "python3"
  }
 },
 "nbformat": 4,
 "nbformat_minor": 2
}
