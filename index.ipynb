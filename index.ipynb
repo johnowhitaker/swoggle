{
 "cells": [
  {
   "cell_type": "code",
   "execution_count": null,
   "metadata": {},
   "outputs": [],
   "source": [
    "#hide\n",
    "from swoggle.core import *\n",
    "from swoggle.ai import *"
   ]
  },
  {
   "cell_type": "markdown",
   "metadata": {},
   "source": [
    "# Swoggle Game Engine\n",
    "> Implements a silly game we invented last Christmas and have been playing recently."
   ]
  },
  {
   "cell_type": "markdown",
   "metadata": {},
   "source": [
    "This file will become your README and also the index of your documentation."
   ]
  },
  {
   "cell_type": "markdown",
   "metadata": {},
   "source": [
    "## Install (Not on pip yet!!)"
   ]
  },
  {
   "cell_type": "markdown",
   "metadata": {},
   "source": [
    "`pip install swoggle`"
   ]
  },
  {
   "cell_type": "markdown",
   "metadata": {},
   "source": [
    "## How to use"
   ]
  },
  {
   "cell_type": "markdown",
   "metadata": {},
   "source": [
    "To start, you create a board and populate it with some players and some drones:"
   ]
  },
  {
   "cell_type": "code",
   "execution_count": null,
   "metadata": {},
   "outputs": [
    {
     "name": "stdout",
     "output_type": "stream",
     "text": [
      "[1.1][...][...][...][...][...][...][...]\n",
      "[...][...][...][...][...][...][...][...]\n",
      "[...][...][...][...][...][...][...][...]\n",
      "[...][...][...][.d.][...][...][...][...]\n",
      "[...][...][...][...][...][...][...][...]\n",
      "[...][...][...][...][...][...][...][...]\n",
      "[...][...][...][...][...][...][...][...]\n",
      "[...][...][...][...][...][...][...][2.2]\n",
      "Spa: []\n"
     ]
    }
   ],
   "source": [
    "# Create a board\n",
    "b = Board()\n",
    "\n",
    "# Add two players (with bases) and a central drone\n",
    "b.board[0][0].player = 1\n",
    "b.board[0][0].base = 1 \n",
    "b.board[7][7].player = 2\n",
    "b.board[7][7].base = 2\n",
    "b.board[3][3].drone = True\n",
    "b.show()"
   ]
  },
  {
   "cell_type": "markdown",
   "metadata": {},
   "source": [
    "Players can move (after rolling a dice). For example, player 1 could move to the square with a drone:"
   ]
  },
  {
   "cell_type": "code",
   "execution_count": null,
   "metadata": {},
   "outputs": [
    {
     "name": "stdout",
     "output_type": "stream",
     "text": [
      "Moved 1 (0, 0) (3, 3)\n",
      "[..1][...][...][...][...][...][...][...]\n",
      "[...][...][...][...][...][...][...][...]\n",
      "[...][...][...][...][...][...][...][...]\n",
      "[...][...][...][1d.][...][...][...][...]\n",
      "[...][...][...][...][...][...][...][...]\n",
      "[...][...][...][...][...][...][...][...]\n",
      "[...][...][...][...][...][...][...][...]\n",
      "[...][...][...][...][...][...][...][2.2]\n",
      "Spa: []\n"
     ]
    }
   ],
   "source": [
    "b.move(1, (0, 0), (3, 3), 5) # Only works if dice_roll is high enough\n",
    "b.show()"
   ]
  },
  {
   "cell_type": "markdown",
   "metadata": {},
   "source": [
    "You can move with the drone, but only half as far:"
   ]
  },
  {
   "cell_type": "code",
   "execution_count": null,
   "metadata": {},
   "outputs": [
    {
     "name": "stdout",
     "output_type": "stream",
     "text": [
      "Moved 1 (3, 3) (6, 4)\n",
      "[..1][...][...][...][...][...][...][...]\n",
      "[...][...][...][...][...][...][...][...]\n",
      "[...][...][...][...][...][...][...][...]\n",
      "[...][...][...][...][...][...][...][...]\n",
      "[...][...][...][...][...][...][...][...]\n",
      "[...][...][...][...][...][...][...][...]\n",
      "[...][...][...][...][1d.][...][...][...]\n",
      "[...][...][...][...][...][...][...][2.2]\n",
      "Spa: []\n"
     ]
    }
   ],
   "source": [
    "b.move(1, (3, 3), (6, 4), 5, drone=True) # Only works if dice_roll is high enough\n",
    "b.show()"
   ]
  },
  {
   "cell_type": "markdown",
   "metadata": {},
   "source": [
    "You can leave the drone behind to move elsewhere. But you cannot take an occupied base without the drone:"
   ]
  },
  {
   "cell_type": "code",
   "execution_count": null,
   "metadata": {},
   "outputs": [
    {
     "name": "stdout",
     "output_type": "stream",
     "text": [
      "Invalid Move 1 (6, 4) (7, 7)\n"
     ]
    },
    {
     "data": {
      "text/plain": [
       "False"
      ]
     },
     "execution_count": null,
     "metadata": {},
     "output_type": "execute_result"
    }
   ],
   "source": [
    "b.move(1, (6, 4), (7, 7), 6) # No drone - no luck"
   ]
  },
  {
   "cell_type": "markdown",
   "metadata": {},
   "source": [
    "You can take a droned player with a drone for yourself or a powerjump:"
   ]
  },
  {
   "cell_type": "code",
   "execution_count": null,
   "metadata": {},
   "outputs": [
    {
     "name": "stdout",
     "output_type": "stream",
     "text": [
      "Player 1 sent to Swoggle Spa\n",
      "Drone destroyed\n",
      "Moved 2 (7, 7) (6, 4)\n"
     ]
    },
    {
     "data": {
      "text/plain": [
       "True"
      ]
     },
     "execution_count": null,
     "metadata": {},
     "output_type": "execute_result"
    }
   ],
   "source": [
    "b.move(2, (7, 7), (6, 4), 6, powerjump=True)"
   ]
  },
  {
   "cell_type": "code",
   "execution_count": null,
   "metadata": {},
   "outputs": [
    {
     "name": "stdout",
     "output_type": "stream",
     "text": [
      "[..1][...][...][...][...][...][...][...]\n",
      "[...][...][...][...][...][...][...][...]\n",
      "[...][...][...][...][...][...][...][...]\n",
      "[...][...][...][...][...][...][...][...]\n",
      "[...][...][...][...][...][...][...][...]\n",
      "[...][...][...][...][...][...][...][...]\n",
      "[...][...][...][...][2..][...][...][...]\n",
      "[...][...][...][...][...][...][...][..2]\n",
      "Spa: [1]\n"
     ]
    }
   ],
   "source": [
    "b.show()"
   ]
  },
  {
   "cell_type": "markdown",
   "metadata": {},
   "source": [
    "Now player 1 must try to escape, by rolling a 5 ot 6"
   ]
  },
  {
   "cell_type": "code",
   "execution_count": null,
   "metadata": {},
   "outputs": [
    {
     "name": "stdout",
     "output_type": "stream",
     "text": [
      "Player 1 did not escape\n",
      "Player 1 escaped\n",
      "[1.1][...][...][...][...][...][...][...]\n",
      "[...][...][...][...][...][...][...][...]\n",
      "[...][...][...][...][...][...][...][...]\n",
      "[...][...][...][...][...][...][...][...]\n",
      "[...][...][...][...][...][...][...][...]\n",
      "[...][...][...][...][...][...][...][...]\n",
      "[...][...][...][...][2..][...][...][...]\n",
      "[...][...][...][...][...][...][...][..2]\n",
      "Spa: []\n"
     ]
    }
   ],
   "source": [
    "b.move(1, (0, 0), (0, 0), 4) # No escape with a 4\n",
    "b.move(1, (0, 0), (0, 0), 5) # Escaped\n",
    "b.show()"
   ]
  },
  {
   "cell_type": "code",
   "execution_count": null,
   "metadata": {},
   "outputs": [
    {
     "name": "stdout",
     "output_type": "stream",
     "text": [
      "Player 2 sent to Swoggle Spa\n",
      "Moved 1 (0, 0) (6, 4)\n",
      "Player 1 defeated player 2\n",
      "Moved 1 (6, 4) (7, 7)\n",
      "[1.1][...][...][...][...][...][...][...]\n",
      "[...][...][...][...][...][...][...][...]\n",
      "[...][...][...][...][...][...][...][...]\n",
      "[...][...][...][...][...][...][...][...]\n",
      "[...][...][...][...][...][...][...][...]\n",
      "[...][...][...][...][...][...][...][...]\n",
      "[...][...][...][...][...][...][...][...]\n",
      "[...][...][...][...][...][...][...][...]\n",
      "Spa: []\n"
     ]
    }
   ],
   "source": [
    "b.move(1, (0, 0), (6, 4), 6) # Capture 2\n",
    "b.move(1, (6, 4), (7, 7), 5) # Take 2's base to win the game\n",
    "b.show()"
   ]
  },
  {
   "cell_type": "markdown",
   "metadata": {},
   "source": [
    "# Adding agents\n",
    "\n",
    "Use swoggle class"
   ]
  },
  {
   "cell_type": "code",
   "execution_count": null,
   "metadata": {},
   "outputs": [
    {
     "name": "stdout",
     "output_type": "stream",
     "text": [
      "[1.1][...][...][...][...][...][...][4.4]\n",
      "[...][...][...][...][...][...][...][...]\n",
      "[...][...][...][...][.d.][...][...][...]\n",
      "[...][...][.d.][...][...][...][...][...]\n",
      "[...][...][...][...][...][.d.][...][...]\n",
      "[...][...][...][.d.][...][...][...][...]\n",
      "[...][...][...][...][...][...][...][...]\n",
      "[2.2][...][...][...][...][...][...][3.3]\n",
      "Spa: []\n"
     ]
    }
   ],
   "source": [
    "sr = Swoggle([RandomAgent(i+1) for i in range(4)])\n",
    "sr.show()"
   ]
  },
  {
   "cell_type": "code",
   "execution_count": null,
   "metadata": {},
   "outputs": [
    {
     "name": "stdout",
     "output_type": "stream",
     "text": [
      "1 took 15 tries to guess a random move\n",
      "Moved 1 (1, 0) (0, 1)\n",
      "2 took 7 tries to guess a random move\n",
      "Moved 2 (1, 6) (2, 5)\n",
      "3 took 12 tries to guess a random move\n",
      "Moved 3 (7, 7) (7, 6)\n",
      "4 took 2 tries to guess a random move\n",
      "Moved 4 (4, 6) (6, 6)\n",
      "[..1][1..][...][...][...][...][...][..4]\n",
      "[...][...][...][...][...][...][...][...]\n",
      "[...][...][...][...][.d.][2..][...][...]\n",
      "[...][...][.d.][...][...][...][...][...]\n",
      "[...][...][...][...][...][.d.][...][...]\n",
      "[...][...][...][.d.][...][...][...][...]\n",
      "[...][...][...][...][...][...][4..][...]\n",
      "[..2][...][...][...][...][...][3..][..3]\n",
      "Spa: []\n"
     ]
    }
   ],
   "source": [
    "# Run repeatedly to see a game play out\n",
    "sr.move_agents()\n",
    "sr.show()"
   ]
  },
  {
   "cell_type": "code",
   "execution_count": null,
   "metadata": {},
   "outputs": [],
   "source": []
  }
 ],
 "metadata": {
  "kernelspec": {
   "display_name": "Python 3",
   "language": "python",
   "name": "python3"
  }
 },
 "nbformat": 4,
 "nbformat_minor": 2
}
