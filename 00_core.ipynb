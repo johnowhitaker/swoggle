{
 "cells": [
  {
   "cell_type": "code",
   "execution_count": null,
   "metadata": {},
   "outputs": [],
   "source": [
    "# default_exp core"
   ]
  },
  {
   "cell_type": "markdown",
   "metadata": {},
   "source": [
    "# Swoggle\n",
    "\n",
    "> API details."
   ]
  },
  {
   "cell_type": "code",
   "execution_count": null,
   "metadata": {},
   "outputs": [],
   "source": [
    "#hide\n",
    "from nbdev.showdoc import *"
   ]
  },
  {
   "cell_type": "markdown",
   "metadata": {},
   "source": [
    "# The basic ideas\n",
    "\n",
    "Want a representation of the board.\n",
    "\n",
    "cell = {'x', 'y', 'drone':bool, 'player':PID, 'base':{owner:PID}}"
   ]
  },
  {
   "cell_type": "code",
   "execution_count": null,
   "metadata": {},
   "outputs": [],
   "source": [
    "# export\n",
    "\n",
    "class Cell:\n",
    "    \"\"\" Represent a cell on the game board \"\"\"\n",
    "    x, y = 0, 0\n",
    "    drone = False\n",
    "    player = None\n",
    "    base = None\n",
    "    \n",
    "    def __init__(self, x, y, drone=False, player=None, base=None):\n",
    "        self.x = x\n",
    "        self.y = y\n",
    "        self.drone = drone\n",
    "        self.player = player\n",
    "        self.base = base\n",
    "        \n",
    "    def is_occupied(self):\n",
    "        if self.player != None:\n",
    "            return True\n",
    "        return False\n",
    "    \n",
    "    def is_free(self):\n",
    "        if (self.player == None) and (self.base == None) and not (self.drone):\n",
    "            return True\n",
    "        return False"
   ]
  },
  {
   "cell_type": "code",
   "execution_count": null,
   "metadata": {},
   "outputs": [],
   "source": [
    "# Test is_occupied\n",
    "c  = Cell(1, 1)\n",
    "c.player = 123\n",
    "assert(c.is_occupied())\n",
    "c.player = None\n",
    "assert(c.is_occupied() == False) "
   ]
  },
  {
   "cell_type": "code",
   "execution_count": null,
   "metadata": {},
   "outputs": [],
   "source": [
    "# Test is_free\n",
    "c  = Cell(1, 1)\n",
    "assert(c.is_free()) \n",
    "c.player = 123\n",
    "assert(c.is_free() == False)\n",
    "c.player = None\n",
    "c.drone = True\n",
    "assert(c.is_free() == False) \n",
    "c.drone = None\n",
    "c.base = 1\n",
    "assert(c.is_free() == False) "
   ]
  },
  {
   "cell_type": "code",
   "execution_count": null,
   "metadata": {},
   "outputs": [],
   "source": [
    "#export\n",
    "def dice():\n",
    "    return 6"
   ]
  },
  {
   "cell_type": "markdown",
   "metadata": {},
   "source": [
    "There is some explanation here, and an example:"
   ]
  },
  {
   "cell_type": "code",
   "execution_count": null,
   "metadata": {},
   "outputs": [
    {
     "data": {
      "text/plain": [
       "6"
      ]
     },
     "execution_count": null,
     "metadata": {},
     "output_type": "execute_result"
    }
   ],
   "source": [
    "dice()"
   ]
  },
  {
   "cell_type": "code",
   "execution_count": null,
   "metadata": {},
   "outputs": [],
   "source": [
    "# assert say_hello(\"Jeremy\")==\"Hello Jeremy!\" # Test function"
   ]
  },
  {
   "cell_type": "code",
   "execution_count": null,
   "metadata": {},
   "outputs": [
    {
     "data": {
      "text/plain": [
       "6"
      ]
     },
     "execution_count": null,
     "metadata": {},
     "output_type": "execute_result"
    }
   ],
   "source": [
    "import math\n",
    "math.ceil(5.5)"
   ]
  },
  {
   "cell_type": "code",
   "execution_count": null,
   "metadata": {},
   "outputs": [],
   "source": [
    "\n",
    "import math\n",
    "\n",
    "def is_valid_move(board, player, start_loc, end_loc, dice_roll, drone):\n",
    "    xs, ys, xe, ye = *start_loc, *end_loc\n",
    "    \n",
    "    # Reduce distance if drone\n",
    "    if drone:\n",
    "        dice_roll = math.ceil(dice_roll/2)\n",
    "        \n",
    "    # Check that there's a drone in the start loc if drone\n",
    "    if drone and not board[xs][ys].drone:\n",
    "        return False\n",
    "    \n",
    "    # Check we're in range\n",
    "    if abs(xe-xs) > dice_roll:\n",
    "        return False\n",
    "    if abs(ye-ys) > dice_roll:\n",
    "        return False\n",
    "    \n",
    "    # CHeck if dest is base\n",
    "    \n",
    "    # Check if dest is droned player\n",
    "    \n",
    "    # Check it's in bounds (right at start)\n",
    "    \n",
    "    # Maaaaaybe see if there are drones in the way?\n",
    "\n",
    "    return True\n",
    "\n",
    "def move(board, player, start_loc, end_loc, dice_roll, drone=False):\n",
    "    if not is_valid_move(board, player, start_loc, end_loc, dice_roll, drone):\n",
    "        print('Invalid Move', player, start_loc, end_loc)\n",
    "        return False\n",
    "    \n",
    "    # Move player\n",
    "    board[start_loc[0]][start_loc[1]].player = None\n",
    "    board[end_loc[0]][end_loc[1]].player = player\n",
    "    \n",
    "    # Move drone\n",
    "    if drone:\n",
    "        if not board[end_loc[0]][end_loc[1]].drone: # If there's a drone there already, leave ours behind \n",
    "            board[start_loc[0]][start_loc[1]].drone = False\n",
    "        board[end_loc[0]][end_loc[1]].drone = True\n",
    "        \n",
    "    # Check for base defeats\n",
    "    \n",
    "    # Check for player clashes\n",
    "    \n",
    "    # Add power jump\n",
    "    \n",
    "    # Add jail check\n",
    "    \n",
    "    print('Moved', player, start_loc, end_loc)\n",
    "    return board\n",
    "\n",
    "def show(board):\n",
    "    for row in board:\n",
    "        s = ''\n",
    "        for cell in row:\n",
    "            s += '['\n",
    "            if cell.player != None:\n",
    "                s += str(cell.player)\n",
    "            else:\n",
    "                s += '.'\n",
    "            if cell.drone:\n",
    "                s += 'd'\n",
    "            else:\n",
    "                s += '.'\n",
    "            if cell.base != None:\n",
    "                s += str(cell.base)\n",
    "            else:\n",
    "                s += '.'\n",
    "            s += ']'\n",
    "        print(s)"
   ]
  },
  {
   "cell_type": "code",
   "execution_count": null,
   "metadata": {},
   "outputs": [
    {
     "name": "stdout",
     "output_type": "stream",
     "text": [
      "[1.1][...][...][...][...][...][...][...]\n",
      "[...][...][...][...][...][...][...][...]\n",
      "[...][...][...][...][...][...][...][...]\n",
      "[...][...][...][.d.][...][...][...][...]\n",
      "[...][...][...][...][...][...][...][...]\n",
      "[...][...][...][...][...][...][...][...]\n",
      "[...][...][...][...][...][...][...][...]\n",
      "[...][...][...][...][...][...][...][...]\n",
      "next\n",
      "Moved 1 (0, 0) (1, 1)\n",
      "Invalid Move 1 (1, 1) (6, 6)\n",
      "[..1][...][...][...][...][...][...][...]\n",
      "[...][1..][...][...][...][...][...][...]\n",
      "[...][...][...][...][...][...][...][...]\n",
      "[...][...][...][.d.][...][...][...][...]\n",
      "[...][...][...][...][...][...][...][...]\n",
      "[...][...][...][...][...][...][...][...]\n",
      "[...][...][...][...][...][...][...][...]\n",
      "[...][...][...][...][...][...][...][...]\n",
      "Invalid Move 1 (1, 1) (4, 4)\n",
      "[..1][...][...][...][...][...][...][...]\n",
      "[...][1..][...][...][...][...][...][...]\n",
      "[...][...][...][...][...][...][...][...]\n",
      "[...][...][...][.d.][...][...][...][...]\n",
      "[...][...][...][...][...][...][...][...]\n",
      "[...][...][...][...][...][...][...][...]\n",
      "[...][...][...][...][...][...][...][...]\n",
      "[...][...][...][...][...][...][...][...]\n",
      "Moved 1 (1, 1) (3, 3)\n",
      "Moved 1 (3, 3) (4, 4)\n",
      "[..1][...][...][...][...][...][...][...]\n",
      "[...][...][...][...][...][...][...][...]\n",
      "[...][...][...][...][...][...][...][...]\n",
      "[...][...][...][...][...][...][...][...]\n",
      "[...][...][...][...][1d.][...][...][...]\n",
      "[...][...][...][...][...][...][...][...]\n",
      "[...][...][...][...][...][...][...][...]\n",
      "[...][...][...][...][...][...][...][...]\n"
     ]
    }
   ],
   "source": [
    "# Create a board\n",
    "board = [[Cell(x, y) for x in range(8)] for y in range(8)]\n",
    "\n",
    "# Add some bases and draw starting setup\n",
    "board[0][0].player = 1\n",
    "board[0][0].base = 1 \n",
    "board[3][3].drone = True\n",
    "show(board)\n",
    "\n",
    "print('next')\n",
    "\n",
    "move(board, 1, (0, 0), (1, 1), 1)\n",
    "move(board, 1, (1, 1), (6, 6), 4)\n",
    "show(board)\n",
    "move(board, 1, (1, 1), (4, 4), 5, drone=True) # Fails  - no drone\n",
    "show(board)\n",
    "move(board, 1, (1, 1), (3, 3), 5, drone=False) # Start from drone loc\n",
    "move(board, 1, (3, 3), (4, 4), 5, drone=True) # Works\n",
    "show(board)"
   ]
  },
  {
   "cell_type": "code",
   "execution_count": null,
   "metadata": {},
   "outputs": [],
   "source": []
  }
 ],
 "metadata": {
  "kernelspec": {
   "display_name": "Python 3",
   "language": "python",
   "name": "python3"
  }
 },
 "nbformat": 4,
 "nbformat_minor": 2
}
