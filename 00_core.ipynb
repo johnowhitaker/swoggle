{
 "cells": [
  {
   "cell_type": "code",
   "execution_count": null,
   "metadata": {},
   "outputs": [],
   "source": [
    "# default_exp core"
   ]
  },
  {
   "cell_type": "markdown",
   "metadata": {},
   "source": [
    "# Swoggle\n",
    "\n",
    "> TODO: API details. "
   ]
  },
  {
   "cell_type": "code",
   "execution_count": null,
   "metadata": {},
   "outputs": [],
   "source": [
    "#hide\n",
    "from nbdev.showdoc import *"
   ]
  },
  {
   "cell_type": "markdown",
   "metadata": {},
   "source": [
    "# The basic ideas\n",
    "\n",
    "The board is an 8x8 grid of cells. We'll use a 'Cell' class to represent them, with the following attributes:\n",
    "\n",
    "cell = {'x', 'y', 'drone':bool, 'player':PID, 'base':PID}"
   ]
  },
  {
   "cell_type": "code",
   "execution_count": null,
   "metadata": {},
   "outputs": [],
   "source": [
    "# export\n",
    "class Cell:\n",
    "    \"\"\" Represent a cell on the game board \"\"\"\n",
    "    x, y = 0, 0\n",
    "    drone = False\n",
    "    player = None\n",
    "    base = None\n",
    "    \n",
    "    def __init__(self, x, y, drone=False, player=None, base=None):\n",
    "        self.x = x\n",
    "        self.y = y\n",
    "        self.drone = drone\n",
    "        self.player = player\n",
    "        self.base = base\n",
    "        \n",
    "    def is_occupied(self):\n",
    "        if self.player != None:\n",
    "            return True\n",
    "        return False\n",
    "    \n",
    "    def is_free(self):\n",
    "        if (self.player == None) and (self.base == None) and not (self.drone):\n",
    "            return True\n",
    "        return False"
   ]
  },
  {
   "cell_type": "code",
   "execution_count": null,
   "metadata": {},
   "outputs": [],
   "source": [
    "# Test is_occupied\n",
    "c  = Cell(1, 1)\n",
    "c.player = 123\n",
    "assert(c.is_occupied())\n",
    "c.player = None\n",
    "assert(c.is_occupied() == False) "
   ]
  },
  {
   "cell_type": "code",
   "execution_count": null,
   "metadata": {},
   "outputs": [],
   "source": [
    "# Test is_free\n",
    "c  = Cell(1, 1)\n",
    "assert(c.is_free()) \n",
    "c.player = 123\n",
    "assert(c.is_free() == False)\n",
    "c.player = None\n",
    "c.drone = True\n",
    "assert(c.is_free() == False) \n",
    "c.drone = None\n",
    "c.base = 1\n",
    "assert(c.is_free() == False) "
   ]
  },
  {
   "cell_type": "markdown",
   "metadata": {},
   "source": [
    "The above two run as tests - integrated in the NB, and easy to play with interactively."
   ]
  },
  {
   "cell_type": "markdown",
   "metadata": {},
   "source": [
    "### The board representation\n",
    "\n",
    "A matrix of cells (the board), as well as the jail (for captured players).\n",
    "\n",
    "Also need a way to do moves. Done with move(player, start, end, dice roll, drone, powerjump) where drone and powerjump are special moves."
   ]
  },
  {
   "cell_type": "code",
   "execution_count": null,
   "metadata": {},
   "outputs": [],
   "source": [
    "#export\n",
    "import math\n",
    "\n",
    "class Board:\n",
    "    \n",
    "    board = [[Cell(x, y) for x in range(8)] for y in range(8)]\n",
    "    jail = []\n",
    "\n",
    "    def is_valid_move(self, player, start_loc, end_loc, dice_roll, drone, powerjump):\n",
    "        xs, ys, xe, ye = *start_loc, *end_loc\n",
    "\n",
    "        # Check it's in bounds\n",
    "        if max(xs, ys, xe, ye) > 7 or min(xs, ys, xe, ye) < 0:\n",
    "            return False\n",
    "\n",
    "        # Check that player is in start loc\n",
    "        if self.board[xs][ys].player != player:\n",
    "            print(2)\n",
    "            return False\n",
    "\n",
    "        # Check that there's a drone in the start loc if drone\n",
    "        if drone and not self.board[xs][ys].drone:\n",
    "            return False\n",
    "        \n",
    "        #Check they're starting from their base if powerjump\n",
    "        if powerjump and not self.board[xs][ys].base == player:\n",
    "            return False\n",
    "\n",
    "        # Adjust max distance if drone or powerjump\n",
    "        if drone or powerjump:\n",
    "            dice_roll = math.ceil(dice_roll/2)\n",
    "\n",
    "        # Check we're in range\n",
    "        if abs(xe-xs) > dice_roll:\n",
    "            return False\n",
    "        if abs(ye-ys) > dice_roll:\n",
    "            return False\n",
    "\n",
    "        # Check the base isn't defended against an un-armoured attacker\n",
    "        if self.board[xe][ye].base != None:\n",
    "            if self.board[xe][ye].player and drone==False: # Defended\n",
    "                return False\n",
    "\n",
    "        # Check if dest is droned player\n",
    "        if (self.board[xe][ye].player != None) and (self.board[xe][ye].drone) and not (drone or powerjump):\n",
    "            return False\n",
    "        \n",
    "        # If you rolled a 1, you have to move 1\n",
    "        if dice_roll == 1:\n",
    "            if (xe==xe)\n",
    "\n",
    "\n",
    "        # Maaaaaybe see if there are drones in the way?\n",
    "\n",
    "        return True\n",
    "\n",
    "    def move(self, player, start_loc, end_loc, dice_roll, drone=False, powerjump=False):\n",
    "        \n",
    "        # If in jail, try to escape (5 or 6)\n",
    "        if player in self.jail:\n",
    "            if dice_roll > 4:\n",
    "                self.jail.remove(player)\n",
    "                # Put player back on base:\n",
    "                for row in self.board:\n",
    "                    for cell in row:\n",
    "                        if cell.base == player:\n",
    "                            cell.player = player\n",
    "                print('Player', player, 'escaped')\n",
    "                # End turn\n",
    "                return True\n",
    "            else:\n",
    "                print('Player', player, 'did not escape')\n",
    "                return True\n",
    "        \n",
    "        # Check move validity\n",
    "        if not self.is_valid_move(player, start_loc, end_loc, dice_roll, drone, powerjump):\n",
    "            print('Invalid Move', player, start_loc, end_loc)\n",
    "            return False\n",
    "\n",
    "        xs, ys, xe, ye = *start_loc, *end_loc\n",
    "        \n",
    "        # Check for player clashes\n",
    "        if self.board[xe][ye].player != None: # Valid move so we capture them\n",
    "            pid = self.board[xe][ye].player\n",
    "            print('Player', pid, 'sent to Swoggle Spa')\n",
    "            self.board[xe][ye].player = None\n",
    "            self.jail.append(pid)\n",
    "\n",
    "        # Move player\n",
    "        self.board[xs][ys].player = None\n",
    "        self.board[xe][ye].player = player\n",
    "        \n",
    "        # Optional - should powerjumping to a droned player destroy the drone? Comment for no\n",
    "        if powerjump:\n",
    "            if self.board[xe][ye].drone:\n",
    "                print('Drone destroyed')\n",
    "            self.board[xe][ye].drone = False\n",
    "\n",
    "        # Move drone\n",
    "        if drone:\n",
    "            if not self.board[xe][ye].drone: # If there's a drone there already, leave ours behind \n",
    "                self.board[xs][ys].drone = False\n",
    "            self.board[xe][ye].drone = True\n",
    "\n",
    "        # Check for base defeats\n",
    "        if self.board[xe][ye].base != None: # If move is valid, we defeated the base\n",
    "            # Player goes to own base, base and player of defeated charachter disappear\n",
    "            pid = self.board[xe][ye].base\n",
    "            print(\"Player\", str(player), \"defeated player\", pid)\n",
    "            self.board[xe][ye].base = None\n",
    "            self.board[xe][ye].player = None\n",
    "            for row in self.board:\n",
    "                for cell in row:\n",
    "                    # Clear defeated charachetr\n",
    "                    if cell.player == pid:\n",
    "                        cell.player = None\n",
    "                    # Return attacking player\n",
    "                    if cell.base == player:\n",
    "                        cell.player = player\n",
    "\n",
    "\n",
    "        print('Moved', player, start_loc, end_loc)\n",
    "        return True\n",
    "\n",
    "    def show(self):\n",
    "        for row in self.board:\n",
    "            s = ''\n",
    "            for cell in row:\n",
    "                s += '['\n",
    "                if cell.player != None:\n",
    "                    s += str(cell.player)\n",
    "                else:\n",
    "                    s += '.'\n",
    "                if cell.drone:\n",
    "                    s += 'd'\n",
    "                else:\n",
    "                    s += '.'\n",
    "                if cell.base != None:\n",
    "                    s += str(cell.base)\n",
    "                else:\n",
    "                    s += '.'\n",
    "                s += ']'\n",
    "            print(s)"
   ]
  },
  {
   "cell_type": "markdown",
   "metadata": {},
   "source": [
    "### Trial game"
   ]
  },
  {
   "cell_type": "code",
   "execution_count": null,
   "metadata": {},
   "outputs": [
    {
     "name": "stdout",
     "output_type": "stream",
     "text": [
      "[1.1][...][...][...][...][...][...][...]\n",
      "[...][...][...][...][...][...][...][...]\n",
      "[...][...][...][...][...][...][...][...]\n",
      "[...][...][...][.d.][...][...][...][...]\n",
      "[...][...][...][...][...][...][...][...]\n",
      "[...][...][...][...][...][...][...][...]\n",
      "[...][...][...][...][...][...][...][...]\n",
      "[...][...][...][...][...][...][...][2.2]\n",
      "next\n",
      "Moved 1 (0, 0) (1, 1)\n",
      "[..1][...][...][...][...][...][...][...]\n",
      "[...][1..][...][...][...][...][...][...]\n",
      "[...][...][...][...][...][...][...][...]\n",
      "[...][...][...][.d.][...][...][...][...]\n",
      "[...][...][...][...][...][...][...][...]\n",
      "[...][...][...][...][...][...][...][...]\n",
      "[...][...][...][...][...][...][...][...]\n",
      "[...][...][...][...][...][...][...][2.2]\n",
      "Invalid Move 1 (1, 1) (6, 6)\n",
      "[..1][...][...][...][...][...][...][...]\n",
      "[...][1..][...][...][...][...][...][...]\n",
      "[...][...][...][...][...][...][...][...]\n",
      "[...][...][...][.d.][...][...][...][...]\n",
      "[...][...][...][...][...][...][...][...]\n",
      "[...][...][...][...][...][...][...][...]\n",
      "[...][...][...][...][...][...][...][...]\n",
      "[...][...][...][...][...][...][...][2.2]\n",
      "Invalid Move 1 (1, 1) (4, 4)\n",
      "[..1][...][...][...][...][...][...][...]\n",
      "[...][1..][...][...][...][...][...][...]\n",
      "[...][...][...][...][...][...][...][...]\n",
      "[...][...][...][.d.][...][...][...][...]\n",
      "[...][...][...][...][...][...][...][...]\n",
      "[...][...][...][...][...][...][...][...]\n",
      "[...][...][...][...][...][...][...][...]\n",
      "[...][...][...][...][...][...][...][2.2]\n",
      "Moved 1 (1, 1) (3, 3)\n",
      "Moved 1 (3, 3) (4, 4)\n",
      "[..1][...][...][...][...][...][...][...]\n",
      "[...][...][...][...][...][...][...][...]\n",
      "[...][...][...][...][...][...][...][...]\n",
      "[...][...][...][...][...][...][...][...]\n",
      "[...][...][...][...][1d.][...][...][...]\n",
      "[...][...][...][...][...][...][...][...]\n",
      "[...][...][...][...][...][...][...][...]\n",
      "[...][...][...][...][...][...][...][2.2]\n"
     ]
    }
   ],
   "source": [
    "# Create a board\n",
    "b = Board()\n",
    "\n",
    "# Add some bases and draw starting setup\n",
    "b.board[0][0].player = 1\n",
    "b.board[0][0].base = 1 \n",
    "b.board[7][7].player = 2\n",
    "b.board[7][7].base = 2\n",
    "b.board[3][3].drone = True\n",
    "b.show()\n",
    "\n",
    "print('next')\n",
    "\n",
    "b.move(1, (0, 0), (1, 1), 1)\n",
    "b.show()\n",
    "b.move(1, (1, 1), (6, 6), 4)\n",
    "b.show()\n",
    "b.move(1, (1, 1), (4, 4), 5, drone=True) # Fails  - no drone\n",
    "b.show()\n",
    "b.move(1, (1, 1), (3, 3), 5, drone=False) # Start from drone loc\n",
    "b.move(1, (3, 3), (4, 4), 5, drone=True) # Works\n",
    "b.show()"
   ]
  },
  {
   "cell_type": "code",
   "execution_count": null,
   "metadata": {},
   "outputs": [
    {
     "name": "stdout",
     "output_type": "stream",
     "text": [
      "Player 1 sent to Swoggle Spa\n",
      "Drone destroyed\n",
      "Moved 2 (7, 7) (4, 4)\n",
      "[..1][...][...][...][...][...][...][...]\n",
      "[...][...][...][...][...][...][...][...]\n",
      "[...][...][...][...][...][...][...][...]\n",
      "[...][...][...][...][...][...][...][...]\n",
      "[...][...][...][...][2..][...][...][...]\n",
      "[...][...][...][...][...][...][...][...]\n",
      "[...][...][...][...][...][...][...][...]\n",
      "[...][...][...][...][...][...][...][..2]\n"
     ]
    }
   ],
   "source": [
    "# b.move(1, (4, 4), (7, 7), 5, drone=True) # P1 defeats P2\n",
    "b.move(2, (7, 7), (4, 4), 5, powerjump=True) # Testing powerjump\n",
    "b.show()"
   ]
  },
  {
   "cell_type": "code",
   "execution_count": null,
   "metadata": {},
   "outputs": [
    {
     "name": "stdout",
     "output_type": "stream",
     "text": [
      "Player 1 escaped\n",
      "[1.1][...][...][...][...][...][...][...]\n",
      "[...][...][...][...][...][...][...][...]\n",
      "[...][...][...][...][...][...][...][...]\n",
      "[...][...][...][...][...][...][...][...]\n",
      "[...][...][...][...][2..][...][...][...]\n",
      "[...][...][...][...][...][...][...][...]\n",
      "[...][...][...][...][...][...][...][...]\n",
      "[...][...][...][...][...][...][...][..2]\n"
     ]
    }
   ],
   "source": [
    "b.move(1, (0, 0), (0, 0), 5) # Doesn't escape with 4 or below\n",
    "b.show()"
   ]
  },
  {
   "cell_type": "code",
   "execution_count": null,
   "metadata": {},
   "outputs": [
    {
     "name": "stdout",
     "output_type": "stream",
     "text": [
      "Player 2 sent to Swoggle Spa\n",
      "Moved 1 (0, 0) (4, 4)\n",
      "[..1][...][...][...][...][...][...][...]\n",
      "[...][...][...][...][...][...][...][...]\n",
      "[...][...][...][...][...][...][...][...]\n",
      "[...][...][...][...][...][...][...][...]\n",
      "[...][...][...][...][1..][...][...][...]\n",
      "[...][...][...][...][...][...][...][...]\n",
      "[...][...][...][...][...][...][...][...]\n",
      "[...][...][...][...][...][...][...][..2]\n"
     ]
    }
   ],
   "source": [
    "b.move(1, (0, 0), (4, 4), 5)\n",
    "b.show()"
   ]
  },
  {
   "cell_type": "code",
   "execution_count": null,
   "metadata": {},
   "outputs": [
    {
     "name": "stdout",
     "output_type": "stream",
     "text": [
      "Player 1 defeated player 2\n",
      "Moved 1 (4, 4) (7, 7)\n",
      "[1.1][...][...][...][...][...][...][...]\n",
      "[...][...][...][...][...][...][...][...]\n",
      "[...][...][...][...][...][...][...][...]\n",
      "[...][...][...][...][...][...][...][...]\n",
      "[...][...][...][...][...][...][...][...]\n",
      "[...][...][...][...][...][...][...][...]\n",
      "[...][...][...][...][...][...][...][...]\n",
      "[...][...][...][...][...][...][...][...]\n"
     ]
    }
   ],
   "source": [
    "b.move(1, (4, 4), (7, 7), 5)\n",
    "b.show()"
   ]
  },
  {
   "cell_type": "markdown",
   "metadata": {},
   "source": [
    "TODO:\n",
    "Have to move 1 square if you roll a 1\n",
    "Can move ont own base without defeating oneself!"
   ]
  },
  {
   "cell_type": "code",
   "execution_count": null,
   "metadata": {},
   "outputs": [],
   "source": [
    "# Start at 15:22"
   ]
  },
  {
   "cell_type": "code",
   "execution_count": null,
   "metadata": {},
   "outputs": [],
   "source": []
  }
 ],
 "metadata": {
  "kernelspec": {
   "display_name": "Python 3",
   "language": "python",
   "name": "python3"
  }
 },
 "nbformat": 4,
 "nbformat_minor": 2
}
