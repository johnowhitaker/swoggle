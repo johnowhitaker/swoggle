{
 "cells": [
  {
   "cell_type": "code",
   "execution_count": null,
   "metadata": {},
   "outputs": [],
   "source": [
    "# default_exp ai"
   ]
  },
  {
   "cell_type": "markdown",
   "metadata": {},
   "source": [
    "# AI - Adding player agents\n",
    "\n",
    "This is a step towards using this as a game for RL. We define multiple Agents, which follow simple rules in turn."
   ]
  },
  {
   "cell_type": "markdown",
   "metadata": {},
   "source": [
    "# Random Agent\n",
    "\n",
    "TODO description. Trial and error until valid move is found."
   ]
  },
  {
   "cell_type": "code",
   "execution_count": null,
   "metadata": {},
   "outputs": [],
   "source": [
    "#export\n",
    "from swoggle.core import *\n",
    "import random\n",
    "class RandomAgent:\n",
    "    \"\"\" Given a swoggle board on which it is a player, make a random valid move \"\"\"\n",
    "    \n",
    "    def __init__(self, player):\n",
    "        self.player = player\n",
    "    \n",
    "    def move(self, board, dice_roll):\n",
    "        \n",
    "        # If in jail, try to escape\n",
    "        if self.player in board.jail:\n",
    "            board.move(self.player, (0, 0), (0, 0), dice_roll, False, False)\n",
    "            return 'escape'\n",
    "        \n",
    "        # Get start_loc\n",
    "        start_loc = (9, 9)\n",
    "        for row in board.board:\n",
    "            for cell in row:\n",
    "                if cell.player == self.player:\n",
    "                    start_loc = (cell.y, cell.x)\n",
    "        if start_loc == (9, 9):\n",
    "            return None\n",
    "        \n",
    "        # Make a random move within reach\n",
    "        move = ()\n",
    "        count = 0\n",
    "        while True:\n",
    "            count += 1\n",
    "            end_x = random.choice(range(8))\n",
    "            end_y = random.choice(range(8))\n",
    "            drone = random.choice([True, False])\n",
    "            powerjump = random.choice([True, False])\n",
    "            valid = board.is_valid_move(self.player, start_loc, (end_x, end_y), dice_roll, drone=drone, powerjump=powerjump)\n",
    "            move = ()\n",
    "            if valid:\n",
    "                move = ((self.player, start_loc, (end_x, end_y), dice_roll, drone, powerjump))\n",
    "#                 print(f'{self.player} took {count} tries to guess a random move')\n",
    "                break\n",
    "        board.move(*move)\n",
    "        return move\n",
    "            "
   ]
  },
  {
   "cell_type": "markdown",
   "metadata": {},
   "source": [
    "### A game with random agents"
   ]
  },
  {
   "cell_type": "code",
   "execution_count": null,
   "metadata": {},
   "outputs": [
    {
     "name": "stdout",
     "output_type": "stream",
     "text": [
      "[1.1][...][...][...][...][...][...][4.4]\n",
      "[...][...][...][...][...][...][...][...]\n",
      "[...][...][...][...][.d.][...][...][...]\n",
      "[...][...][.d.][...][...][...][...][...]\n",
      "[...][...][...][...][...][.d.][...][...]\n",
      "[...][...][...][.d.][...][...][...][...]\n",
      "[...][...][...][...][...][...][...][...]\n",
      "[2.2][...][...][...][...][...][...][3.3]\n",
      "Spa: []\n"
     ]
    }
   ],
   "source": [
    "sr = Swoggle([RandomAgent(i+1) for i in range(4)])\n",
    "sr.show()"
   ]
  },
  {
   "cell_type": "code",
   "execution_count": null,
   "metadata": {},
   "outputs": [
    {
     "name": "stdout",
     "output_type": "stream",
     "text": [
      "Moved 1 (0, 0) (1, 0)\n",
      "Moved 2 (7, 0) (5, 1)\n",
      "Moved 3 (7, 7) (4, 7)\n",
      "Moved 4 (0, 7) (6, 3)\n",
      "[..1][...][...][...][...][...][...][..4]\n",
      "[1..][...][...][...][...][...][...][...]\n",
      "[...][...][...][...][.d.][...][...][...]\n",
      "[...][...][.d.][...][...][...][...][...]\n",
      "[...][...][...][...][...][.d.][...][3..]\n",
      "[...][2..][...][.d.][...][...][...][...]\n",
      "[...][...][...][4..][...][...][...][...]\n",
      "[..2][...][...][...][...][...][...][..3]\n",
      "Spa: []\n"
     ]
    }
   ],
   "source": [
    "sr.move_agents()\n",
    "sr.show()"
   ]
  },
  {
   "cell_type": "markdown",
   "metadata": {},
   "source": [
    "# Basic Player"
   ]
  },
  {
   "cell_type": "code",
   "execution_count": null,
   "metadata": {},
   "outputs": [],
   "source": [
    "#export\n",
    "class BasicAgent:\n",
    "    \"\"\" Given a swoggle board on which it is a player, make a sensible move \"\"\"\n",
    "    \n",
    "    def __init__(self, player):\n",
    "        self.player = player\n",
    "    \n",
    "    def move(self, board, dice_roll):\n",
    "        \n",
    "        # If in jail, try to escape\n",
    "        if self.player in board.jail:\n",
    "            board.move(self.player, (0, 0), (0, 0), dice_roll, False, False)\n",
    "            return 'escape'\n",
    "        \n",
    "        # Get start_loc\n",
    "        start_loc = (9, 9)\n",
    "        for row in board.board:\n",
    "            for cell in row:\n",
    "                if cell.player == self.player:\n",
    "                    start_loc = (cell.y, cell.x)\n",
    "        if start_loc == (9, 9):\n",
    "            return None\n",
    "        \n",
    "        \n",
    "        # If bases in range, take them\n",
    "        \n",
    "        for row in board.board:\n",
    "            for cell in row:\n",
    "                if cell.player == None and cell.base != None and cell.base != self.player: # Normal move\n",
    "                    move = (self.player, start_loc, (cell.x, cell.y), dice_roll, False, False)\n",
    "                    if board.is_valid_move(*move):\n",
    "                        board.move(*move)\n",
    "                        return (move)\n",
    "                    \n",
    "                if cell.base != None and cell.base != self.player: # Drone attack\n",
    "                    move = (self.player, start_loc, (cell.x, cell.y), dice_roll, True, False)\n",
    "                    if board.is_valid_move(*move):\n",
    "                        board.move(*move)\n",
    "                        return (move)\n",
    "        \n",
    "        # If on base and player in range, take or powerjump them\n",
    "        if board.board[start_loc[0]][start_loc[1]].base == self.player:\n",
    "            for row in board.board:\n",
    "                for cell in row:\n",
    "                    if cell.player != None and cell.player != self.player:\n",
    "                        # try normal move\n",
    "                        move = (self.player, start_loc, (cell.x, cell.y), dice_roll, False, False)\n",
    "                        if board.is_valid_move(*move):\n",
    "                            board.move(*move)\n",
    "                            return (move)\n",
    "                        # Try powerjump\n",
    "                        move = (self.player, start_loc, (cell.x, cell.y), dice_roll, False, True)\n",
    "                        if board.is_valid_move(*move):\n",
    "                            board.move(*move)\n",
    "                            return (move)\n",
    "        \n",
    "        # If players in range and takeable, take them\n",
    "        for row in board.board:\n",
    "            for cell in row:\n",
    "                if cell.player != None and cell.player != self.player:\n",
    "                    # Normal take\n",
    "                    move = (self.player, start_loc, (cell.x, cell.y), dice_roll, False, False)\n",
    "                    if board.is_valid_move(*move):\n",
    "                        board.move(*move)\n",
    "                        return (move)\n",
    "                    # Drone take\n",
    "                    move = (self.player, start_loc, (cell.x, cell.y), dice_roll, True, False)\n",
    "                    if board.is_valid_move(*move):\n",
    "                        board.move(*move)\n",
    "                        return (move)\n",
    "        \n",
    "        # TODO: If player close to your base and base reacheable, go back to base\n",
    "        \n",
    "        # Else move randomly\n",
    "        \n",
    "        # Make a random move within reach\n",
    "        move = ()\n",
    "        count = 0\n",
    "        while True:\n",
    "            count += 1\n",
    "            end_x = random.choice(range(8))\n",
    "            end_y = random.choice(range(8))\n",
    "            drone = random.choice([True, False])\n",
    "            powerjump = random.choice([True, False])\n",
    "            valid = board.is_valid_move(self.player, start_loc, (end_x, end_y), dice_roll, drone=drone, powerjump=powerjump)\n",
    "            move = ()\n",
    "            if valid:\n",
    "                move = ((self.player, start_loc, (end_x, end_y), dice_roll, drone, powerjump))\n",
    "#                 print(f'{self.player} took {count} tries to guess a random move')\n",
    "                break\n",
    "        board.move(*move)\n",
    "        return move"
   ]
  },
  {
   "cell_type": "markdown",
   "metadata": {},
   "source": [
    "### Here's a way to get win rates for different agents over n games:"
   ]
  },
  {
   "cell_type": "code",
   "execution_count": null,
   "metadata": {},
   "outputs": [],
   "source": [
    "#export\n",
    "from IPython.display import clear_output\n",
    "\n",
    "def win_rates(n, agents):\n",
    "    wins = {}\n",
    "    for i in range(n):\n",
    "        rounds = 0\n",
    "        sr = Swoggle(agents, verbose=False)\n",
    "        while True:\n",
    "            sr.move_agents()\n",
    "            rounds += 1\n",
    "            players = []\n",
    "            for row in sr.board.board:\n",
    "                for cell in row:\n",
    "                    if cell.player != None:\n",
    "                        players.append(cell.player)\n",
    "            if len(players) <= 1:\n",
    "                clear_output(wait=True)\n",
    "                print(\"Winner:\", players, rounds)\n",
    "                if len(players) == 1:\n",
    "                    if players[0] in wins:\n",
    "                        wins[players[0]] += 1\n",
    "                    else:\n",
    "                        wins[players[0]] = 1\n",
    "                break\n",
    "    return wins\n",
    "\n",
    "\n"
   ]
  },
  {
   "cell_type": "markdown",
   "metadata": {},
   "source": [
    "Interestingly, the one opposite the non-random player (player 2) also gets some advantage - the nearby opponents are often removed. "
   ]
  },
  {
   "cell_type": "code",
   "execution_count": null,
   "metadata": {},
   "outputs": [
    {
     "name": "stdout",
     "output_type": "stream",
     "text": [
      "Winner: [4] 35\n",
      "{2: 110, 3: 51, 4: 335, 1: 4}\n"
     ]
    }
   ],
   "source": [
    "print(win_rates(500, [RandomAgent(i+1) for i in range(3)]+[BasicAgent(4)]))"
   ]
  },
  {
   "cell_type": "markdown",
   "metadata": {},
   "source": [
    "# Some convenience methods for PolicyLearners etc:"
   ]
  },
  {
   "cell_type": "code",
   "execution_count": null,
   "metadata": {},
   "outputs": [],
   "source": [
    "#export\n",
    "import numpy as np\n",
    "def swoggle_to_state_vector(sr, player, dice_roll):\n",
    "    board = sr.board\n",
    "    spa = board.jail\n",
    "    # The player locations (192 = 3*8*8)\n",
    "    players = np.concatenate([np.array([c.player == p for c in np.array(sr.board.board).flatten()]).astype(int) for p in range(1, 5) if p != player])\n",
    "    # The base locations of the other players (192 = 3*8*8)\n",
    "    bases = np.concatenate([np.array([c.base == p for c in np.array(sr.board.board).flatten()]).astype(int) for p in range(1, 5) if p != player])\n",
    "    # The drones (64 = 8*8)\n",
    "    drones = np.array([c.drone for c in np.array(sr.board.board).flatten()]).astype(int)\n",
    "    # Player location and base (64 each)\n",
    "    player_loc = np.array([c.player == player for c in np.array(sr.board.board).flatten()]).astype(int)\n",
    "    base = np.array([c.base == player for c in np.array(sr.board.board).flatten()]).astype(int)\n",
    "    # dice (6)\n",
    "    dice = np.array([int(i==dice_roll) for i in range(1, 7)])\n",
    "    # Spa (3)\n",
    "    prisoners = np.array([p in spa for p in range(1, 5) if p != player]).astype(int)\n",
    "\n",
    "    return np.concatenate([players, bases, player_loc, base, drones, dice, prisoners])"
   ]
  },
  {
   "cell_type": "code",
   "execution_count": null,
   "metadata": {},
   "outputs": [
    {
     "data": {
      "text/plain": [
       "array([0, 0, 0, 0, 0, 0, 0, 0, 0, 0, 0, 0, 0, 0, 0, 0, 0, 0, 0, 0, 0, 0,\n",
       "       0, 0, 0, 0, 0, 0, 0, 0, 0, 0, 0, 0, 0, 0, 0, 0, 0, 0, 0, 1, 0, 0,\n",
       "       0, 0, 0, 0, 0, 0, 0, 0, 0, 0, 0, 0, 0, 0, 0, 0, 0, 0, 0, 0, 0, 0,\n",
       "       0, 0, 0, 0, 0, 0, 0, 0, 0, 0, 0, 0, 0, 0, 0, 0, 0, 0, 0, 0, 0, 0,\n",
       "       0, 0, 0, 0, 0, 0, 0, 0, 0, 0, 0, 0, 0, 0, 0, 1, 0, 0, 0, 0, 0, 0,\n",
       "       0, 0, 0, 0, 0, 0, 0, 0, 0, 0, 0, 0, 0, 0, 0, 0, 0, 0, 0, 0, 0, 0,\n",
       "       0, 0, 0, 0, 0, 0, 0, 0, 0, 0, 0, 0, 0, 0, 0, 0, 0, 0, 0, 0, 0, 0,\n",
       "       0, 0, 0, 0, 0, 0, 0, 0, 0, 0, 0, 0, 0, 0, 0, 0, 0, 0, 0, 0, 0, 0,\n",
       "       0, 0, 0, 1, 0, 0, 0, 0, 0, 0, 0, 0, 0, 0, 0, 0, 0, 0, 0, 0, 0, 0,\n",
       "       0, 0, 0, 0, 0, 0, 0, 0, 0, 0, 0, 0, 0, 0, 0, 0, 0, 0, 0, 0, 0, 0,\n",
       "       0, 0, 0, 0, 0, 0, 0, 0, 0, 0, 0, 0, 0, 0, 0, 0, 0, 0, 0, 0, 0, 0,\n",
       "       0, 0, 0, 0, 0, 0, 1, 0, 0, 0, 0, 0, 0, 0, 0, 0, 0, 0, 0, 0, 0, 0,\n",
       "       0, 0, 0, 0, 0, 0, 0, 0, 0, 0, 0, 0, 0, 0, 0, 0, 0, 0, 0, 0, 0, 0,\n",
       "       0, 0, 0, 0, 0, 0, 0, 0, 0, 0, 0, 0, 0, 0, 0, 0, 0, 0, 0, 0, 0, 0,\n",
       "       0, 0, 0, 0, 0, 0, 0, 0, 0, 0, 0, 1, 0, 0, 0, 0, 0, 0, 0, 1, 0, 0,\n",
       "       0, 0, 0, 0, 0, 0, 0, 0, 0, 0, 0, 0, 0, 0, 0, 0, 0, 0, 0, 0, 0, 0,\n",
       "       0, 0, 0, 0, 0, 0, 0, 0, 0, 0, 0, 0, 0, 0, 0, 0, 0, 0, 0, 0, 0, 0,\n",
       "       0, 0, 0, 0, 0, 0, 0, 0, 0, 0, 0, 0, 0, 0, 0, 0, 0, 0, 1, 0, 0, 0,\n",
       "       0, 0, 0, 0, 0, 0, 0, 0, 0, 0, 0, 0, 0, 0, 0, 0, 0, 0, 0, 0, 0, 0,\n",
       "       0, 0, 0, 0, 0, 0, 0, 0, 0, 0, 0, 0, 0, 0, 0, 0, 0, 0, 0, 0, 0, 0,\n",
       "       0, 0, 0, 0, 0, 0, 0, 0, 1, 0, 0, 0, 0, 0, 0, 0, 0, 0, 0, 0, 0, 0,\n",
       "       0, 0, 0, 0, 0, 0, 0, 0, 0, 0, 0, 0, 0, 0, 0, 0, 0, 0, 0, 0, 0, 0,\n",
       "       0, 0, 0, 0, 0, 0, 0, 0, 0, 0, 0, 0, 0, 0, 0, 0, 0, 0, 0, 0, 0, 0,\n",
       "       0, 0, 0, 0, 0, 0, 0, 0, 0, 0, 0, 0, 0, 0, 0, 0, 0, 0, 0, 0, 0, 0,\n",
       "       0, 0, 0, 0, 1, 0, 0, 0, 0, 0, 1, 0, 0, 0, 0, 0, 0, 0, 0, 0, 0, 1,\n",
       "       0, 0, 0, 0, 0, 1, 0, 0, 0, 0, 0, 0, 0, 0, 0, 0, 0, 0, 0, 0, 0, 0,\n",
       "       0, 0, 0, 0, 0, 0, 0, 0, 1, 0, 0, 0, 0])"
      ]
     },
     "execution_count": null,
     "metadata": {},
     "output_type": "execute_result"
    }
   ],
   "source": [
    "swoggle_to_state_vector(sr, 1, 5)"
   ]
  },
  {
   "cell_type": "code",
   "execution_count": null,
   "metadata": {},
   "outputs": [],
   "source": [
    "# export\n",
    "def action_from_number(move, player, sw, dice_roll):\n",
    "    \"\"\" Takes the output of the network, samples from the probs, does the move if possible, returns move_type,  the move itself and the move number\"\"\"\n",
    "    board = sw.board\n",
    "    move_number = move * 1\n",
    "\n",
    "    # Start by getting player's current loc\n",
    "    start_loc = (9, 9)\n",
    "    for row in board.board:\n",
    "        for cell in row:\n",
    "            if cell.player == player:\n",
    "                start_loc = (cell.y, cell.x)\n",
    "    if start_loc == (9, 9): # Player \n",
    "        action = (player, (9, 9),(9, 9), dice_roll, False, False)\n",
    "        return 'dead', action, 0\n",
    "\n",
    "\n",
    "    drone, pj = False, False\n",
    "    move_type = ''\n",
    "    if move//64 == 0: # Normal Move\n",
    "        move_type = 'normal'\n",
    "    elif move//64 == 1:\n",
    "        move -= 64\n",
    "        pj=True\n",
    "        move_type = 'powerjump'\n",
    "    else:\n",
    "        move -= 128\n",
    "        drone = True\n",
    "        move_type = 'drone'\n",
    "\n",
    "    x = move//8\n",
    "    y = move%8\n",
    "    action = (player, start_loc, (x, y), dice_roll, drone, pj)\n",
    "    return move_type, action, move_number"
   ]
  },
  {
   "cell_type": "code",
   "execution_count": null,
   "metadata": {},
   "outputs": [
    {
     "data": {
      "text/plain": [
       "('drone', (4, (6, 3), (0, 6), 2, True, False), 134)"
      ]
     },
     "execution_count": null,
     "metadata": {},
     "output_type": "execute_result"
    }
   ],
   "source": [
    "action_from_number(random.choice(range(192)), 4, sr, sr.dice())"
   ]
  },
  {
   "cell_type": "markdown",
   "metadata": {},
   "source": [
    "# Export"
   ]
  },
  {
   "cell_type": "code",
   "execution_count": null,
   "metadata": {},
   "outputs": [
    {
     "name": "stdout",
     "output_type": "stream",
     "text": [
      "Converted 00_core.ipynb.\n",
      "Converted 01_ai.ipynb.\n",
      "Converted 02_RL.ipynb.\n",
      "Converted Policy Gradient with Cartpole and PyTorch (Medium Version).ipynb.\n",
      "Converted index.ipynb.\n"
     ]
    }
   ],
   "source": [
    "from nbdev.export import notebook2script\n",
    "notebook2script()"
   ]
  },
  {
   "cell_type": "code",
   "execution_count": null,
   "metadata": {},
   "outputs": [],
   "source": []
  }
 ],
 "metadata": {
  "kernelspec": {
   "display_name": "Python 3",
   "language": "python",
   "name": "python3"
  }
 },
 "nbformat": 4,
 "nbformat_minor": 2
}
