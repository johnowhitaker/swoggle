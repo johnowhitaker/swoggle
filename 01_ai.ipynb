{
 "cells": [
  {
   "cell_type": "code",
   "execution_count": null,
   "metadata": {},
   "outputs": [],
   "source": [
    "# default_exp ai"
   ]
  },
  {
   "cell_type": "markdown",
   "metadata": {},
   "source": [
    "# AI - Adding player agents\n",
    "\n",
    "This is a step towards using this as a game for RL. We define the Swoggle class, which contains a board and multiple Agents, which follow simple rules in turn. Interactive play, as well as the option to add an agent of your own."
   ]
  },
  {
   "cell_type": "markdown",
   "metadata": {},
   "source": [
    "## Board Setup"
   ]
  },
  {
   "cell_type": "code",
   "execution_count": null,
   "metadata": {},
   "outputs": [],
   "source": [
    "# export\n",
    "from swoggle.core import *\n",
    "class Swoggle:\n",
    "    \"\"\" The game itself\"\"\"\n",
    "    \n",
    "    def __init__(self, agents=[], setup='basic'):\n",
    "        self.board = Board()\n",
    "        self.board.reset()\n",
    "        self.agents = agents\n",
    "        \n",
    "        # Set up basic layout\n",
    "        # Add two players (with bases) and a central drone\n",
    "        self.board.board[0][0].player = 1\n",
    "        self.board.board[0][0].base = 1 \n",
    "        self.board.board[7][0].player = 2\n",
    "        self.board.board[7][0].base = 2\n",
    "        self.board.board[7][7].player = 3\n",
    "        self.board.board[7][7].base = 3\n",
    "        self.board.board[0][7].player = 4\n",
    "        self.board.board[0][7].base = 4\n",
    "        self.board.board[3][2].drone = True\n",
    "        self.board.board[5][3].drone = True\n",
    "        self.board.board[4][5].drone = True\n",
    "        self.board.board[2][4].drone = True\n",
    "\n",
    "    def dice(self):\n",
    "        return random.choice([1, 2, 3, 4, 5, 6])\n",
    "    \n",
    "    def move(self, player, start_loc, end_loc, dice_roll, drone=False, powerjump=False):\n",
    "        \"\"\" Moves a player not under internal agent control the does the agent's moves \"\"\"\n",
    "        self.board.move(player, start_loc, end_loc, dice_roll, drone=False, powerjump=False)\n",
    "        for a in self.agents:\n",
    "            a.move(self.board, self.dice())\n",
    "            \n",
    "    def move_agents(self):\n",
    "        for a in self.agents:\n",
    "            a.move(self.board, self.dice())\n",
    "            \n",
    "    def show(self):\n",
    "        self.board.show()\n",
    "    \n",
    "    def interactive_play(self):\n",
    "        pass\n",
    "        # TODO"
   ]
  },
  {
   "cell_type": "code",
   "execution_count": null,
   "metadata": {},
   "outputs": [
    {
     "name": "stdout",
     "output_type": "stream",
     "text": [
      "[1.1][...][...][...][...][...][...][4.4]\n",
      "[...][...][...][...][...][...][...][...]\n",
      "[...][...][...][...][.d.][...][...][...]\n",
      "[...][...][.d.][...][...][...][...][...]\n",
      "[...][...][...][...][...][.d.][...][...]\n",
      "[...][...][...][.d.][...][...][...][...]\n",
      "[...][...][...][...][...][...][...][...]\n",
      "[2.2][...][...][...][...][...][...][3.3]\n",
      "Spa: []\n"
     ]
    }
   ],
   "source": [
    "s = Swoggle(agents=[])\n",
    "s.show()"
   ]
  },
  {
   "cell_type": "code",
   "execution_count": null,
   "metadata": {},
   "outputs": [
    {
     "name": "stdout",
     "output_type": "stream",
     "text": [
      "Moved 1 (0, 0) (3, 2)\n",
      "[..1][...][...][...][...][...][...][4.4]\n",
      "[...][...][...][...][...][...][...][...]\n",
      "[...][...][...][...][.d.][...][...][...]\n",
      "[...][...][1d.][...][...][...][...][...]\n",
      "[...][...][...][...][...][.d.][...][...]\n",
      "[...][...][...][.d.][...][...][...][...]\n",
      "[...][...][...][...][...][...][...][...]\n",
      "[2.2][...][...][...][...][...][...][3.3]\n",
      "Spa: []\n"
     ]
    }
   ],
   "source": [
    "s.move(1, (0, 0), (3, 2), 5)\n",
    "s.show()"
   ]
  },
  {
   "cell_type": "code",
   "execution_count": null,
   "metadata": {},
   "outputs": [
    {
     "data": {
      "text/plain": [
       "True"
      ]
     },
     "execution_count": null,
     "metadata": {},
     "output_type": "execute_result"
    }
   ],
   "source": [
    "s.board.is_valid_move(1, (3, 2), (3, 3), 6, drone=True, powerjump=False)"
   ]
  },
  {
   "cell_type": "code",
   "execution_count": null,
   "metadata": {},
   "outputs": [
    {
     "name": "stdout",
     "output_type": "stream",
     "text": [
      "[..1][...][...][...][...][...][...][4.4]\n",
      "[...][...][...][...][...][...][...][...]\n",
      "[...][...][...][...][.d.][...][...][...]\n",
      "[...][...][1d.][...][...][...][...][...]\n",
      "[...][...][...][...][...][.d.][...][...]\n",
      "[...][...][...][.d.][...][...][...][...]\n",
      "[...][...][...][...][...][...][...][...]\n",
      "[2.2][...][...][...][...][...][...][3.3]\n",
      "Spa: []\n"
     ]
    }
   ],
   "source": [
    "s.show()"
   ]
  },
  {
   "cell_type": "markdown",
   "metadata": {},
   "source": [
    "# Random Agent"
   ]
  },
  {
   "cell_type": "code",
   "execution_count": null,
   "metadata": {},
   "outputs": [],
   "source": [
    "#export\n",
    "import random\n",
    "class RandomAgent:\n",
    "    \"\"\" Given a swoggle board on which it is a player, make a random valid move \"\"\"\n",
    "    \n",
    "    def __init__(self, player):\n",
    "        self.player = player\n",
    "    \n",
    "    def move(self, board, dice_roll):\n",
    "        \n",
    "        # If in jail, try to escape\n",
    "        if self.player in board.jail:\n",
    "            board.move(self.player, (0, 0), (0, 0), dice_roll, False, False)\n",
    "            return 'escape'\n",
    "        \n",
    "        # Get start_loc\n",
    "        start_loc = (9, 9)\n",
    "        for row in board.board:\n",
    "            for cell in row:\n",
    "                if cell.player == self.player:\n",
    "                    start_loc = (cell.y, cell.x)\n",
    "        if start_loc == (9, 9):\n",
    "            return None\n",
    "        \n",
    "        # Make a random move within reach\n",
    "        move = ()\n",
    "        count = 0\n",
    "        while True:\n",
    "            count += 1\n",
    "            end_x = random.choice(range(8))\n",
    "            end_y = random.choice(range(8))\n",
    "            drone = random.choice([True, False])\n",
    "            powerjump = random.choice([True, False])\n",
    "            valid = board.is_valid_move(self.player, start_loc, (end_x, end_y), dice_roll, drone=drone, powerjump=powerjump)\n",
    "            move = ()\n",
    "            if valid:\n",
    "                move = ((self.player, start_loc, (end_x, end_y), dice_roll, drone, powerjump))\n",
    "#                 print(f'{self.player} took {count} tries to guess a random move')\n",
    "                break\n",
    "        board.move(*move)\n",
    "        return move\n",
    "            "
   ]
  },
  {
   "cell_type": "code",
   "execution_count": null,
   "metadata": {},
   "outputs": [
    {
     "name": "stdout",
     "output_type": "stream",
     "text": [
      "Moved 1 (1, 0) (2, 0)\n"
     ]
    },
    {
     "data": {
      "text/plain": [
       "(1, (1, 0), (2, 0), 6, False, False)"
      ]
     },
     "execution_count": null,
     "metadata": {},
     "output_type": "execute_result"
    }
   ],
   "source": [
    "RandomAgent(1).move(s.board, 6)"
   ]
  },
  {
   "cell_type": "markdown",
   "metadata": {},
   "source": [
    "### A game with random agents"
   ]
  },
  {
   "cell_type": "code",
   "execution_count": null,
   "metadata": {},
   "outputs": [
    {
     "name": "stdout",
     "output_type": "stream",
     "text": [
      "[1.1][...][...][...][...][...][...][4.4]\n",
      "[...][...][...][...][...][...][...][...]\n",
      "[...][...][...][...][.d.][...][...][...]\n",
      "[...][...][.d.][...][...][...][...][...]\n",
      "[...][...][...][...][...][.d.][...][...]\n",
      "[...][...][...][.d.][...][...][...][...]\n",
      "[...][...][...][...][...][...][...][...]\n",
      "[2.2][...][...][...][...][...][...][3.3]\n",
      "Spa: []\n"
     ]
    }
   ],
   "source": [
    "sr = Swoggle([RandomAgent(i+1) for i in range(4)])\n",
    "sr.show()"
   ]
  },
  {
   "cell_type": "code",
   "execution_count": null,
   "metadata": {},
   "outputs": [
    {
     "name": "stdout",
     "output_type": "stream",
     "text": [
      "Moved 1 (0, 0) (3, 5)\n",
      "Moved 2 (7, 0) (6, 0)\n",
      "Moved 3 (7, 7) (4, 7)\n",
      "Moved 4 (0, 7) (2, 3)\n",
      "[..1][...][...][...][...][...][...][..4]\n",
      "[...][...][...][...][...][...][...][...]\n",
      "[...][...][...][4..][.d.][...][...][...]\n",
      "[...][...][.d.][...][...][1..][...][...]\n",
      "[...][...][...][...][...][.d.][...][3..]\n",
      "[...][...][...][.d.][...][...][...][...]\n",
      "[2..][...][...][...][...][...][...][...]\n",
      "[..2][...][...][...][...][...][...][..3]\n",
      "Spa: []\n"
     ]
    }
   ],
   "source": [
    "sr.move_agents()\n",
    "sr.show()"
   ]
  },
  {
   "cell_type": "markdown",
   "metadata": {},
   "source": [
    "# Basic Player"
   ]
  },
  {
   "cell_type": "code",
   "execution_count": null,
   "metadata": {},
   "outputs": [],
   "source": [
    "class BasicAgent:\n",
    "    \"\"\" Given a swoggle board on which it is a player, make a sensible move \"\"\"\n",
    "    \n",
    "    def __init__(self, player):\n",
    "        self.player = player\n",
    "    \n",
    "    def move(self, board, dice_roll):\n",
    "        \n",
    "        # If in jail, try to escape\n",
    "        if self.player in board.jail:\n",
    "            board.move(self.player, (0, 0), (0, 0), dice_roll, False, False)\n",
    "            return 'escape'\n",
    "        \n",
    "        # Get start_loc\n",
    "        start_loc = (9, 9)\n",
    "        for row in board.board:\n",
    "            for cell in row:\n",
    "                if cell.player == self.player:\n",
    "                    start_loc = (cell.y, cell.x)\n",
    "        if start_loc == (9, 9):\n",
    "            return None\n",
    "        \n",
    "        \n",
    "        # If bases in range, take them\n",
    "        \n",
    "        for row in board.board:\n",
    "            for cell in row:\n",
    "                if cell.player == None and cell.base != None and cell.base != self.player: # Normal move\n",
    "                    move = (self.player, start_loc, (cell.x, cell.y), dice_roll, False, False)\n",
    "                    if board.is_valid_move(*move):\n",
    "                        board.move(*move)\n",
    "                        return (move)\n",
    "                    \n",
    "                if cell.base != None and cell.base != self.player: # Drone attack\n",
    "                    move = (self.player, start_loc, (cell.x, cell.y), dice_roll, True, False)\n",
    "                    if board.is_valid_move(*move):\n",
    "                        board.move(*move)\n",
    "                        return (move)\n",
    "        \n",
    "        # If on base and player in range, take or powerjump them\n",
    "        if board.board[start_loc[0]][start_loc[1]].base == self.player:\n",
    "            for row in board.board:\n",
    "                for cell in row:\n",
    "                    if cell.player != None and cell.player != self.player:\n",
    "                        # try normal move\n",
    "                        move = (self.player, start_loc, (cell.x, cell.y), dice_roll, False, False)\n",
    "                        if board.is_valid_move(*move):\n",
    "                            board.move(*move)\n",
    "                            return (move)\n",
    "                        # Try powerjump\n",
    "                        move = (self.player, start_loc, (cell.x, cell.y), dice_roll, False, True)\n",
    "                        if board.is_valid_move(*move):\n",
    "                            board.move(*move)\n",
    "                            return (move)\n",
    "        \n",
    "        # If players in range and takeable, take them\n",
    "        for row in board.board:\n",
    "            for cell in row:\n",
    "                if cell.player != None and cell.player != self.player:\n",
    "                    # Normal take\n",
    "                    move = (self.player, start_loc, (cell.x, cell.y), dice_roll, False, False)\n",
    "                    if board.is_valid_move(*move):\n",
    "                        board.move(*move)\n",
    "                        return (move)\n",
    "                    # Drone take\n",
    "                    move = (self.player, start_loc, (cell.x, cell.y), dice_roll, True, False)\n",
    "                    if board.is_valid_move(*move):\n",
    "                        board.move(*move)\n",
    "                        return (move)\n",
    "        \n",
    "        # TODO: If player close to your base and base reacheable, go back to base\n",
    "        \n",
    "        # Else move randomly\n",
    "        \n",
    "        # Make a random move within reach\n",
    "        move = ()\n",
    "        count = 0\n",
    "        while True:\n",
    "            count += 1\n",
    "            end_x = random.choice(range(8))\n",
    "            end_y = random.choice(range(8))\n",
    "            drone = random.choice([True, False])\n",
    "            powerjump = random.choice([True, False])\n",
    "            valid = board.is_valid_move(self.player, start_loc, (end_x, end_y), dice_roll, drone=drone, powerjump=powerjump)\n",
    "            move = ()\n",
    "            if valid:\n",
    "                move = ((self.player, start_loc, (end_x, end_y), dice_roll, drone, powerjump))\n",
    "#                 print(f'{self.player} took {count} tries to guess a random move')\n",
    "                break\n",
    "        board.move(*move)\n",
    "        return move"
   ]
  },
  {
   "cell_type": "markdown",
   "metadata": {},
   "source": [
    "### Here's a way to get win rates for different agents over n games:"
   ]
  },
  {
   "cell_type": "code",
   "execution_count": null,
   "metadata": {},
   "outputs": [
    {
     "name": "stdout",
     "output_type": "stream",
     "text": [
      "Winner: [4] 47\n",
      "{3: 52, 4: 311, 2: 128, 1: 9}\n"
     ]
    }
   ],
   "source": [
    "from IPython.display import clear_output\n",
    "\n",
    "def win_rates(n, agents):\n",
    "    wins = {}\n",
    "    for i in range(n):\n",
    "        rounds = 0\n",
    "        sr = Swoggle(agents)\n",
    "        while True:\n",
    "            sr.move_agents()\n",
    "            rounds += 1\n",
    "            players = []\n",
    "            for row in sr.board.board:\n",
    "                for cell in row:\n",
    "                    if cell.player != None:\n",
    "                        players.append(cell.player)\n",
    "            if len(players) <= 1:\n",
    "                clear_output()\n",
    "                print(\"Winner:\", players, rounds)\n",
    "                if len(players) == 1:\n",
    "                    if players[0] in wins:\n",
    "                        wins[players[0]] += 1\n",
    "                    else:\n",
    "                        wins[players[0]] = 1\n",
    "                break\n",
    "    return wins\n",
    "\n",
    "\n",
    "print(win_rates(500, [RandomAgent(i+1) for i in range(3)]+[BasicAgent(4)]))"
   ]
  },
  {
   "cell_type": "markdown",
   "metadata": {},
   "source": [
    "Interestingly, the one opposite the non-random player also gets some advantage."
   ]
  },
  {
   "cell_type": "code",
   "execution_count": null,
   "metadata": {},
   "outputs": [],
   "source": []
  },
  {
   "cell_type": "code",
   "execution_count": null,
   "metadata": {},
   "outputs": [],
   "source": []
  },
  {
   "cell_type": "code",
   "execution_count": null,
   "metadata": {},
   "outputs": [],
   "source": []
  },
  {
   "cell_type": "code",
   "execution_count": null,
   "metadata": {},
   "outputs": [],
   "source": []
  },
  {
   "cell_type": "code",
   "execution_count": null,
   "metadata": {},
   "outputs": [],
   "source": []
  }
 ],
 "metadata": {
  "kernelspec": {
   "display_name": "Python 3",
   "language": "python",
   "name": "python3"
  }
 },
 "nbformat": 4,
 "nbformat_minor": 2
}
