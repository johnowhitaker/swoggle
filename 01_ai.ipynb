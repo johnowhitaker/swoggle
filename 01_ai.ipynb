{
 "cells": [
  {
   "cell_type": "code",
   "execution_count": null,
   "metadata": {},
   "outputs": [],
   "source": [
    "# default_exp ai"
   ]
  },
  {
   "cell_type": "markdown",
   "metadata": {},
   "source": [
    "# AI - Adding player agents\n",
    "\n",
    "This is a step towards using this as a game for RL. We define the Swoggle class, which contains a board and multiple Agents, which follow simple rules in turn. Interactive play, as well as the option to add an agent of your own."
   ]
  },
  {
   "cell_type": "markdown",
   "metadata": {},
   "source": [
    "## Board Setup"
   ]
  },
  {
   "cell_type": "code",
   "execution_count": null,
   "metadata": {},
   "outputs": [],
   "source": [
    "# export\n",
    "from swoggle.core import *\n",
    "class Swoggle:\n",
    "    \"\"\" The game itself\"\"\"\n",
    "    \n",
    "    def __init__(self, agents=[], setup='basic'):\n",
    "        self.board = Board()\n",
    "        self.board.reset()\n",
    "        self.agents = agents\n",
    "        \n",
    "        # Set up basic layout\n",
    "        # Add two players (with bases) and a central drone\n",
    "        self.board.board[0][0].player = 1\n",
    "        self.board.board[0][0].base = 1 \n",
    "        self.board.board[7][0].player = 2\n",
    "        self.board.board[7][0].base = 2\n",
    "        self.board.board[7][7].player = 3\n",
    "        self.board.board[7][7].base = 3\n",
    "        self.board.board[0][7].player = 4\n",
    "        self.board.board[0][7].base = 4\n",
    "        self.board.board[3][2].drone = True\n",
    "        self.board.board[5][3].drone = True\n",
    "        self.board.board[4][5].drone = True\n",
    "        self.board.board[2][4].drone = True\n",
    "\n",
    "    def dice(self):\n",
    "        return random.choice([1, 2, 3, 4, 5, 6])\n",
    "    \n",
    "    def move(self, player, start_loc, end_loc, dice_roll, drone=False, powerjump=False):\n",
    "        \"\"\" Moves a player not under internal agent control the does the agent's moves \"\"\"\n",
    "        self.board.move(player, start_loc, end_loc, dice_roll, drone=False, powerjump=False)\n",
    "        for a in self.agents:\n",
    "            a.move(self.board, self.dice())\n",
    "            \n",
    "    def move_agents(self):\n",
    "        for a in self.agents:\n",
    "            a.move(self.board, self.dice())\n",
    "            \n",
    "    def show(self):\n",
    "        self.board.show()\n",
    "    \n",
    "    def interactive_play(self):\n",
    "        pass\n",
    "        # TODO"
   ]
  },
  {
   "cell_type": "code",
   "execution_count": null,
   "metadata": {},
   "outputs": [
    {
     "name": "stdout",
     "output_type": "stream",
     "text": [
      "[1.1][...][...][...][...][...][...][4.4]\n",
      "[...][...][...][...][...][...][...][...]\n",
      "[...][...][...][...][.d.][...][...][...]\n",
      "[...][...][.d.][...][...][...][...][...]\n",
      "[...][...][...][...][...][.d.][...][...]\n",
      "[...][...][...][.d.][...][...][...][...]\n",
      "[...][...][...][...][...][...][...][...]\n",
      "[2.2][...][...][...][...][...][...][3.3]\n",
      "Spa: []\n"
     ]
    }
   ],
   "source": [
    "s = Swoggle(agents=[])\n",
    "s.show()"
   ]
  },
  {
   "cell_type": "code",
   "execution_count": null,
   "metadata": {},
   "outputs": [
    {
     "name": "stdout",
     "output_type": "stream",
     "text": [
      "Moved 1 (0, 0) (3, 2)\n",
      "[..1][...][...][...][...][...][...][4.4]\n",
      "[...][...][...][...][...][...][...][...]\n",
      "[...][...][...][...][.d.][...][...][...]\n",
      "[...][...][1d.][...][...][...][...][...]\n",
      "[...][...][...][...][...][.d.][...][...]\n",
      "[...][...][...][.d.][...][...][...][...]\n",
      "[...][...][...][...][...][...][...][...]\n",
      "[2.2][...][...][...][...][...][...][3.3]\n",
      "Spa: []\n"
     ]
    }
   ],
   "source": [
    "s.move(1, (0, 0), (3, 2), 5)\n",
    "s.show()"
   ]
  },
  {
   "cell_type": "code",
   "execution_count": null,
   "metadata": {},
   "outputs": [
    {
     "data": {
      "text/plain": [
       "True"
      ]
     },
     "execution_count": null,
     "metadata": {},
     "output_type": "execute_result"
    }
   ],
   "source": [
    "s.board.is_valid_move(1, (3, 2), (3, 3), 6, drone=True, powerjump=False)"
   ]
  },
  {
   "cell_type": "code",
   "execution_count": null,
   "metadata": {},
   "outputs": [
    {
     "name": "stdout",
     "output_type": "stream",
     "text": [
      "[..1][...][...][...][...][...][...][4.4]\n",
      "[...][...][...][...][...][...][...][...]\n",
      "[...][...][...][...][.d.][...][...][...]\n",
      "[...][...][1d.][...][...][...][...][...]\n",
      "[...][...][...][...][...][.d.][...][...]\n",
      "[...][...][...][.d.][...][...][...][...]\n",
      "[...][...][...][...][...][...][...][...]\n",
      "[2.2][...][...][...][...][...][...][3.3]\n",
      "Spa: []\n"
     ]
    }
   ],
   "source": [
    "s.show()"
   ]
  },
  {
   "cell_type": "code",
   "execution_count": null,
   "metadata": {},
   "outputs": [],
   "source": [
    "#export\n",
    "import random\n",
    "class RandomAgent:\n",
    "    \"\"\" Given a swoggle board on which it is a player, make a random valid move \"\"\"\n",
    "    \n",
    "    def __init__(self, player):\n",
    "        self.player = player\n",
    "    \n",
    "    def move(self, board, dice_roll):\n",
    "        \n",
    "        # If in jail, try to escape\n",
    "        if self.player in board.jail:\n",
    "            board.move(self.player, (0, 0), (0, 0), dice_roll, False, False)\n",
    "            return 'escape'\n",
    "        \n",
    "        # Get start_loc\n",
    "        start_loc = (9, 9)\n",
    "        for row in board.board:\n",
    "            for cell in row:\n",
    "                if cell.player == self.player:\n",
    "                    start_loc = (cell.y, cell.x)\n",
    "        if start_loc == (9, 9):\n",
    "            return None\n",
    "        \n",
    "        # Make a random move within reach\n",
    "        move = ()\n",
    "        count = 0\n",
    "        while True:\n",
    "            count += 1\n",
    "            end_x = random.choice(range(8))\n",
    "            end_y = random.choice(range(8))\n",
    "            drone = random.choice([True, False])\n",
    "            powerjump = random.choice([True, False])\n",
    "            valid = board.is_valid_move(self.player, start_loc, (end_x, end_y), dice_roll, drone=drone, powerjump=powerjump)\n",
    "            move = ()\n",
    "            if valid:\n",
    "                move = ((self.player, start_loc, (end_x, end_y), dice_roll, drone, powerjump))\n",
    "                print(f'{self.player} took {count} tries to guess a random move')\n",
    "                break\n",
    "        board.move(*move)\n",
    "        return move\n",
    "            "
   ]
  },
  {
   "cell_type": "code",
   "execution_count": null,
   "metadata": {},
   "outputs": [
    {
     "name": "stdout",
     "output_type": "stream",
     "text": [
      "1 took 2 tries to guess a random move\n",
      "Moved 1 (3, 2) (7, 2)\n"
     ]
    },
    {
     "data": {
      "text/plain": [
       "(1, (3, 2), (7, 2), 6, False, False)"
      ]
     },
     "execution_count": null,
     "metadata": {},
     "output_type": "execute_result"
    }
   ],
   "source": [
    "RandomAgent(1).move(s.board, 6)"
   ]
  },
  {
   "cell_type": "markdown",
   "metadata": {},
   "source": [
    "### A game with random agents"
   ]
  },
  {
   "cell_type": "code",
   "execution_count": null,
   "metadata": {},
   "outputs": [
    {
     "name": "stdout",
     "output_type": "stream",
     "text": [
      "[1.1][...][...][...][...][...][...][4.4]\n",
      "[...][...][...][...][...][...][...][...]\n",
      "[...][...][...][...][.d.][...][...][...]\n",
      "[...][...][.d.][...][...][...][...][...]\n",
      "[...][...][...][...][...][.d.][...][...]\n",
      "[...][...][...][.d.][...][...][...][...]\n",
      "[...][...][...][...][...][...][...][...]\n",
      "[2.2][...][...][...][...][...][...][3.3]\n",
      "Spa: []\n"
     ]
    }
   ],
   "source": [
    "sr = Swoggle([RandomAgent(i+1) for i in range(4)])\n",
    "sr.show()"
   ]
  },
  {
   "cell_type": "code",
   "execution_count": null,
   "metadata": {},
   "outputs": [
    {
     "name": "stdout",
     "output_type": "stream",
     "text": [
      "2 took 4 tries to guess a random move\n",
      "Player 2 defeated player 3\n",
      "Moved 2 (1, 5) (7, 7)\n",
      "4 took 5 tries to guess a random move\n",
      "Moved 4 (6, 2) (4, 3)\n",
      "[...][...][...][...][...][...][...][..4]\n",
      "[...][...][...][...][...][...][...][...]\n",
      "[...][...][...][...][...][...][...][...]\n",
      "[...][...][...][...][...][.d.][...][...]\n",
      "[...][...][...][4..][...][.d.][...][...]\n",
      "[.d.][...][...][...][...][...][...][...]\n",
      "[...][...][...][...][...][...][...][...]\n",
      "[2.2][...][...][...][...][...][...][...]\n",
      "Spa: []\n"
     ]
    }
   ],
   "source": [
    "sr.move_agents()\n",
    "sr.show()"
   ]
  },
  {
   "cell_type": "code",
   "execution_count": null,
   "metadata": {},
   "outputs": [],
   "source": []
  },
  {
   "cell_type": "code",
   "execution_count": null,
   "metadata": {},
   "outputs": [],
   "source": []
  }
 ],
 "metadata": {
  "kernelspec": {
   "display_name": "Python 3",
   "language": "python",
   "name": "python3"
  }
 },
 "nbformat": 4,
 "nbformat_minor": 2
}
